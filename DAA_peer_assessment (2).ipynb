{
 "cells": [
  {
   "cell_type": "code",
   "execution_count": 44,
   "id": "f419bcf0",
   "metadata": {},
   "outputs": [
    {
     "name": "stdout",
     "output_type": "stream",
     "text": [
      "Enter number of branches(m)12\n",
      "Enter the order8\n",
      "[[1, 5.409090909090909, 9.818181818181818, 14.227272727272727, 18.636363636363637, 23.045454545454547, 27.454545454545457, 31.863636363636367, 36.27272727272727, 40.68181818181818, 45.090909090909086, 49.49999999999999], [2, 6, 10, 15, 19, 24, 28, 32, 37, 41, 46, 50]]\n",
      "First level vertex labels\n",
      "1 5 9 14 18 23 27 31 36 40 45 49 "
     ]
    }
   ],
   "source": [
    "import math\n",
    "m = int(input(\"Enter number of branches(m)\"))\n",
    "n = int(input(\"Enter the order\"))\n",
    "root=1\n",
    "if n>=m:\n",
    "    print(\"For homogeneous amalgamated star n should be less than m\")\n",
    "else:\n",
    "    v=(m*n)+1\n",
    "    d=(v/2)/(m-1)\n",
    "    A = [[0] * m for _ in range(2)]\n",
    "    A[0][0]=1\n",
    "    A[1][0]=2\n",
    "    for j in range(1,m):\n",
    "        A[0][j]=A[0][j-1]+d\n",
    "        A[1][j]=math.floor(A[0][j])+1\n",
    "    print(A)\n",
    "print(\"First level vertex labels\")\n",
    "for i in range(0,m):\n",
    "    print(math.floor(A[0][i]),end=\" \")\n"
   ]
  },
  {
   "cell_type": "code",
   "execution_count": null,
   "id": "6f4e9c6f",
   "metadata": {},
   "outputs": [],
   "source": []
  },
  {
   "cell_type": "code",
   "execution_count": 45,
   "id": "81a2c656",
   "metadata": {},
   "outputs": [
    {
     "name": "stdout",
     "output_type": "stream",
     "text": [
      "[2, 6, 10, 15, 19, 24, 28, 32, 37, 41, 46, 50]\n"
     ]
    }
   ],
   "source": [
    "#First level edge values are stored in a list\n",
    "list1=[]\n",
    "for i in range(0,m):\n",
    "    list1.append(A[1][i])\n",
    "print(list1)"
   ]
  },
  {
   "cell_type": "code",
   "execution_count": 46,
   "id": "99d79c6d",
   "metadata": {},
   "outputs": [
    {
     "name": "stdout",
     "output_type": "stream",
     "text": [
      "[1, 2, 3, 4, 5, 6, 7, 8, 9, 10, 11, 12, 13, 14, 15, 16, 17, 18, 19, 20, 21, 22, 23, 24, 25, 26, 27, 28, 29, 30, 31, 32, 33, 34, 35, 36, 37, 38, 39, 40, 41, 42, 43, 44, 45, 46, 47, 48, 49, 50, 51, 52, 53, 54, 55, 56, 57, 58, 59, 60, 61, 62, 63, 64, 65, 66, 67, 68, 69, 70, 71, 72, 73, 74, 75, 76, 77, 78, 79, 80, 81, 82, 83, 84, 85, 86, 87, 88, 89, 90, 91, 92, 93, 94, 95, 96, 97]\n"
     ]
    }
   ],
   "source": [
    "list2=[]\n",
    "for i in range(1,v+1):\n",
    "    list2.append(i)\n",
    "print(list2)"
   ]
  },
  {
   "cell_type": "code",
   "execution_count": 47,
   "id": "c39cc78a",
   "metadata": {},
   "outputs": [
    {
     "name": "stdout",
     "output_type": "stream",
     "text": [
      "Second level edge labels\n",
      "[[3, 12, 21, 30, 39, 48, 56, 63, 70, 77, 84, 91], [4, 13, 22, 31, 40, 49, 57, 64, 71, 78, 85, 92], [5, 14, 23, 33, 42, 51, 58, 65, 72, 79, 86, 93], [7, 16, 25, 34, 43, 52, 59, 66, 73, 80, 87, 94], [8, 17, 26, 35, 44, 53, 60, 67, 74, 81, 88, 95], [9, 18, 27, 36, 45, 54, 61, 68, 75, 82, 89, 96], [11, 20, 29, 38, 47, 55, 62, 69, 76, 83, 90, 97]]\n"
     ]
    }
   ],
   "source": [
    "#Second level edge calculation\n",
    "c=0\n",
    "B = [[0] * m for _ in range(n-1)]\n",
    "for i in range(0,m):\n",
    "    for j in range(0,n-1):\n",
    "        while list2[c] in list1 or list2[c]==math.floor(A[0][i]):\n",
    "            c += 1\n",
    "        B[j][i]=list2[c]\n",
    "        list1.append(B[j][i])\n",
    "        c=c+1\n",
    "print(\"Second level edge labels\")\n",
    "print(B)"
   ]
  },
  {
   "cell_type": "code",
   "execution_count": 48,
   "id": "f991a970",
   "metadata": {},
   "outputs": [
    {
     "name": "stdout",
     "output_type": "stream",
     "text": [
      "Second level vertex labels\n",
      "[[2, 7, 12, 16, 21, 25, 29, 32, 34, 37, 39, 42], [3, 8, 13, 17, 22, 26, 30, 33, 35, 38, 40, 43], [4, 9, 14, 19, 24, 28, 31, 34, 36, 39, 41, 44], [6, 11, 16, 20, 25, 29, 32, 35, 37, 40, 42, 45], [7, 12, 17, 21, 26, 30, 33, 36, 38, 41, 43, 46], [8, 13, 18, 22, 27, 31, 34, 37, 39, 42, 44, 47], [10, 15, 20, 24, 29, 32, 35, 38, 40, 43, 45, 48]]\n"
     ]
    }
   ],
   "source": [
    "#Second level vertex labeling\n",
    "D = [[0] * m for _ in range(n-1)]\n",
    "for i in range(0,m):\n",
    "    for j in range(0,n-1):\n",
    "        D[j][i]=abs(math.floor(A[0][i])-B[j][i])\n",
    "print(\"Second level vertex labels\")\n",
    "print(D)"
   ]
  },
  {
   "cell_type": "code",
   "execution_count": null,
   "id": "a81361b2",
   "metadata": {},
   "outputs": [],
   "source": []
  },
  {
   "cell_type": "code",
   "execution_count": null,
   "id": "f93fa70e",
   "metadata": {},
   "outputs": [],
   "source": []
  }
 ],
 "metadata": {
  "kernelspec": {
   "display_name": "Python 3 (ipykernel)",
   "language": "python",
   "name": "python3"
  },
  "language_info": {
   "codemirror_mode": {
    "name": "ipython",
    "version": 3
   },
   "file_extension": ".py",
   "mimetype": "text/x-python",
   "name": "python",
   "nbconvert_exporter": "python",
   "pygments_lexer": "ipython3",
   "version": "3.9.16"
  }
 },
 "nbformat": 4,
 "nbformat_minor": 5
}
